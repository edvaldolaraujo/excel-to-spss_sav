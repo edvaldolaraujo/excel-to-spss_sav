{
 "cells": [
  {
   "cell_type": "markdown",
   "metadata": {},
   "source": [
    "# Transformar arquivo SPSS para formato SPSS-SAV"
   ]
  },
  {
   "cell_type": "markdown",
   "metadata": {},
   "source": [
    "SPSS é um software estatístico muito comum em alguns domínios como, por exemplo, Market Research.\n",
    "O sofware possui uma linguagem de script própria onde é possivel ler um arquivo excel e transformá-lo em SAV (formato nativo do SPSS), porém é necessario um considerável esforço de programação.\n",
    "\n",
    "O objetivo deste código é converter um arquivo Excel com o menor esforço de programação possivel. Para atingir este propósito usaremos um arquivo JSON que servirá de metadata.\n",
    "\n",
    "Este arquivo metadata ajuda a definir:\n",
    "* O nome das colunas no arquivo Excel\n",
    "* O label de cada coluna\n",
    "* O tipo de dado (Numérico, categórico ou text)\n",
    "* O tamanho de cada coluna\n",
    "\n",
    "Serão usados os seguintes pacotes:\n",
    "* pandas\n",
    "* numpy\n",
    "* json\n",
    "* savReaderWriter\n",
    "\n",
    "Antes de executar este código faça o mapeamento das colunas para identificar os nomes e tipos. Se necessário ajuste o arquivo Excel."
   ]
  },
  {
   "cell_type": "code",
   "execution_count": 1,
   "metadata": {
    "ExecuteTime": {
     "end_time": "2021-01-25T15:51:30.232286Z",
     "start_time": "2021-01-25T15:51:26.555128Z"
    }
   },
   "outputs": [
    {
     "ename": "ModuleNotFoundError",
     "evalue": "No module named 'savReaderWriter'",
     "output_type": "error",
     "traceback": [
      "\u001b[1;31m---------------------------------------------------------------------------\u001b[0m",
      "\u001b[1;31mModuleNotFoundError\u001b[0m                       Traceback (most recent call last)",
      "\u001b[1;32m<ipython-input-1-9f99077a89bf>\u001b[0m in \u001b[0;36m<module>\u001b[1;34m\u001b[0m\n\u001b[0;32m      2\u001b[0m \u001b[1;32mimport\u001b[0m \u001b[0mnumpy\u001b[0m \u001b[1;32mas\u001b[0m \u001b[0mnp\u001b[0m\u001b[1;33m\u001b[0m\u001b[1;33m\u001b[0m\u001b[0m\n\u001b[0;32m      3\u001b[0m \u001b[1;32mimport\u001b[0m \u001b[0mjson\u001b[0m\u001b[1;33m\u001b[0m\u001b[1;33m\u001b[0m\u001b[0m\n\u001b[1;32m----> 4\u001b[1;33m \u001b[1;32mimport\u001b[0m \u001b[0msavReaderWriter\u001b[0m \u001b[1;32mas\u001b[0m \u001b[0msav\u001b[0m\u001b[1;33m\u001b[0m\u001b[1;33m\u001b[0m\u001b[0m\n\u001b[0m",
      "\u001b[1;31mModuleNotFoundError\u001b[0m: No module named 'savReaderWriter'"
     ]
    }
   ],
   "source": [
    "import pandas as pd\n",
    "import numpy as np\n",
    "import json\n",
    "import savReaderWriter as sav"
   ]
  },
  {
   "cell_type": "code",
   "execution_count": 7,
   "metadata": {
    "ExecuteTime": {
     "end_time": "2021-01-25T16:52:34.683917Z",
     "start_time": "2021-01-25T16:52:34.680348Z"
    }
   },
   "outputs": [],
   "source": [
    "# Definindo os nomes e caminhos dos arquivo\n",
    "EXCEL_FILE = 'C:\\Sandbox\\dataset.xlsx'\n",
    "JSON_FILE = 'C:/Sandbox/metadata.json'\n",
    "SAV_FILE = 'C:\\Sandbox\\dataset.sav'"
   ]
  },
  {
   "cell_type": "code",
   "execution_count": 3,
   "metadata": {
    "ExecuteTime": {
     "end_time": "2021-01-25T16:50:24.324387Z",
     "start_time": "2021-01-25T16:50:23.766456Z"
    }
   },
   "outputs": [
    {
     "name": "stderr",
     "output_type": "stream",
     "text": [
      "<ipython-input-3-ed935f35d1ea>:6: FutureWarning: The pandas.np module is deprecated and will be removed from pandas in a future version. Import numpy directly instead\n",
      "  base.replace(to_replace=pd.np.nan, value='', inplace=True)\n"
     ]
    }
   ],
   "source": [
    "# ## Carregando e preparando os dados...\n",
    "base = pd.read_excel(EXCEL_FILE)\n",
    "\n",
    "# Tratar os dados missing\n",
    "base.replace(to_replace=[None], value='', inplace=True) \n",
    "base.replace(to_replace=pd.np.nan, value='', inplace=True)"
   ]
  },
  {
   "cell_type": "markdown",
   "metadata": {},
   "source": [
    "Definindo metadata do arquivo SPSS-SAV a partir do arquivo JSON\n",
    "Este metadatata é formado pom um dicionário que tem a seguinte estrutura:\n",
    "* Chave - coluna final do arquivo SPSS-SAV\n",
    "* Valor - uma lista com: Nome Original, Var label, Var Type, Tamanho\n"
   ]
  },
  {
   "cell_type": "code",
   "execution_count": 8,
   "metadata": {
    "ExecuteTime": {
     "end_time": "2021-01-25T16:52:40.071987Z",
     "start_time": "2021-01-25T16:52:40.062496Z"
    }
   },
   "outputs": [],
   "source": [
    "with open(JSON_FILE) as f:\n",
    "  metadata = json.load(f)\n"
   ]
  },
  {
   "cell_type": "code",
   "execution_count": 9,
   "metadata": {
    "ExecuteTime": {
     "end_time": "2021-01-25T16:53:19.460716Z",
     "start_time": "2021-01-25T16:53:19.447532Z"
    }
   },
   "outputs": [],
   "source": [
    "# ## Criando os dicionários e listas\n",
    "\n",
    "renomar_colunas = {}\n",
    "varNames = []\n",
    "campos = []\n",
    "varTypes = {}\n",
    "varLabels = {}\n",
    "\n",
    "for coluna in metadata:\n",
    "    renomar_colunas[metadata[coluna][0]] = coluna\n",
    "    if metadata[coluna][2] >0:\n",
    "        varNames.append(coluna)\n",
    "        \n",
    "        if metadata[coluna][2] in [1,4]:\n",
    "            campos.append(coluna)\n",
    "        \n",
    "        varTypes[coluna] = metadata[coluna][3]\n",
    "        varLabels[coluna] = metadata[coluna][1]"
   ]
  },
  {
   "cell_type": "code",
   "execution_count": 10,
   "metadata": {
    "ExecuteTime": {
     "end_time": "2021-01-25T16:53:36.869220Z",
     "start_time": "2021-01-25T16:53:36.859031Z"
    }
   },
   "outputs": [],
   "source": [
    "# ## Renomeando as colunas do conjunto de dados\n",
    "\n",
    "base.rename(columns=renomar_colunas, inplace = True)"
   ]
  },
  {
   "cell_type": "code",
   "execution_count": 11,
   "metadata": {
    "ExecuteTime": {
     "end_time": "2021-01-25T16:54:40.166517Z",
     "start_time": "2021-01-25T16:54:34.287323Z"
    }
   },
   "outputs": [],
   "source": [
    "# ## Transformando as colunas categóricas e capturando o *Value Labels* de cada coluna.\n",
    "\n",
    "from sklearn.preprocessing import LabelEncoder\n",
    "\n",
    "lb_make = LabelEncoder()\n",
    "\n",
    "valueLabels = {}\n",
    "\n",
    "for campo in campos:\n",
    "    base[campo] = lb_make.fit_transform(base[campo])\n",
    "    itens = list(lb_make.classes_)\n",
    "\n",
    "    valores = {}\n",
    "    posicao = 0\n",
    "\n",
    "    for item in itens:\n",
    "        if item=='':\n",
    "            valores[posicao] ='99999999'\n",
    "        else:\n",
    "            valores[posicao] =item\n",
    "\n",
    "        posicao += 1\n",
    "\n",
    "    valueLabels[campo] = valores\n",
    "\n",
    "base_values = base[varNames].values\n"
   ]
  },
  {
   "cell_type": "code",
   "execution_count": 12,
   "metadata": {
    "ExecuteTime": {
     "end_time": "2021-01-25T16:55:11.835716Z",
     "start_time": "2021-01-25T16:55:11.823540Z"
    }
   },
   "outputs": [],
   "source": [
    "# ## Convertendo o dataframe\n",
    "records = []\n",
    "for case in base_values:\n",
    "    record = []\n",
    "    for value in case:\n",
    "        if type(value) is str:\n",
    "            record.append(value.encode())\n",
    "        else:\n",
    "            record.append(value)\n",
    "    records.append(record)"
   ]
  },
  {
   "cell_type": "code",
   "execution_count": null,
   "metadata": {},
   "outputs": [],
   "source": [
    "# ## Salvando o arquivo SPSS-SAV\n",
    "\n",
    "SAV_FILE\n",
    "with sav.SavWriter(SAV_FILE, varNames, varTypes, varLabels=varLabels, valueLabels=valueLabels, \n",
    "                    ioUtf8=True,overwrite=True) as writer:\n",
    "    for record in records:\n",
    "        writer.writerow(record)"
   ]
  },
  {
   "cell_type": "markdown",
   "metadata": {},
   "source": [
    "# Referências:\n",
    "https://pbpython.com/categorical-encoding.html\n",
    " \n",
    "https://pythonhosted.org/savReaderWriter/generated_api_documentation.html#savwriter\n",
    "https://scikit-learn.org/stable/modules/generated/sklearn.preprocessing.LabelEncoder.html\n",
    "\n",
    "https://www.w3schools.com/python/python_dictionaries.asp\n"
   ]
  },
  {
   "cell_type": "code",
   "execution_count": null,
   "metadata": {},
   "outputs": [],
   "source": []
  }
 ],
 "metadata": {
  "kernelspec": {
   "display_name": "Python 3",
   "language": "python",
   "name": "python3"
  },
  "language_info": {
   "codemirror_mode": {
    "name": "ipython",
    "version": 3
   },
   "file_extension": ".py",
   "mimetype": "text/x-python",
   "name": "python",
   "nbconvert_exporter": "python",
   "pygments_lexer": "ipython3",
   "version": "3.8.5"
  },
  "varInspector": {
   "cols": {
    "lenName": 16,
    "lenType": 16,
    "lenVar": 40
   },
   "kernels_config": {
    "python": {
     "delete_cmd_postfix": "",
     "delete_cmd_prefix": "del ",
     "library": "var_list.py",
     "varRefreshCmd": "print(var_dic_list())"
    },
    "r": {
     "delete_cmd_postfix": ") ",
     "delete_cmd_prefix": "rm(",
     "library": "var_list.r",
     "varRefreshCmd": "cat(var_dic_list()) "
    }
   },
   "types_to_exclude": [
    "module",
    "function",
    "builtin_function_or_method",
    "instance",
    "_Feature"
   ],
   "window_display": false
  }
 },
 "nbformat": 4,
 "nbformat_minor": 4
}
